{
 "cells": [
  {
   "cell_type": "markdown",
   "metadata": {},
   "source": [
    "# Part3. 가설 설정과 가설 검증을 위한 데이터 분석"
   ]
  },
  {
   "cell_type": "markdown",
   "metadata": {},
   "source": [
    "## 가설 세워보기\n",
    "- Social 과 Referral 채널에는 마케팅 투자를 해도 구매전환율이 크게 변화하지 않을 것이다.  (1~3월 구매전환율 큰 변화 없음)\n",
    "    \n",
    "    --> 구매전환율은 유입 채널에 영향을 받지 않을 것이다.\n",
    "    \n",
    "- 해당 사이트는 남성 고객을 타겟으로 하는 사이트로 보인다. 남성 제품의 유입 및 구매가 항상 제일 많을 것이다.\n",
    "- 남성 제품으로 유입되는 고객은 display 채널을 통해서 주로 유입될 것이다. (Men's 세션과 Display의 상관관계)\n",
    "- 남성 outerwear의 판매는 계절의 영향을 받는다. / 반면 여성 outerwear의 판매는 계절의 영향을 받지 않는다.\n",
    "- 여성 제품으로 유입되는 고객은 Referral 채널을 통해서 유입된다. (Women's 세션과 Referral 상관관계)\n",
    "- 키즈 제품과 여성 제품의 traffic trend가 비슷하게 흐름 \n",
    "    \n",
    "    --> 키즈 제품과 여성 제품의 유입에는 양의 상관관계가 있을 것이다.\n",
    "    \n",
    "    --> 상관관계가 있는 게 맞다면, 앞으로 이 사이트는 프로모션 시 여성 및 키즈 제품 구매 고객(여성고객으로 추정)을 주요 대상으로 보는 것이 좋다.\n",
    "    \n",
    "- device + men / women : 구매전환율 비교\n",
    "- 코호트 분석을 통한 재구매 횟수의 분포/평균 등을 확인 --> 재구매 횟수에 따라 잠재고객 그룹을 분류하여 프로모션 적용 여부를 결정하는 방법도 생각해볼 수 있다."
   ]
  },
  {
   "cell_type": "code",
   "execution_count": 10,
   "metadata": {},
   "outputs": [],
   "source": [
    "import pandas as pd\n",
    "from datetime import datetime, timedelta\n",
    "import numpy as np\n",
    "from scipy import stats\n",
    "from numpy import mean\n",
    "import pickle\n",
    "import gzip\n",
    "from tqdm import tqdm\n",
    "import matplotlib.pyplot as plt\n",
    "plt.rc('font', family='NanumGothic')\n",
    "from matplotlib import gridspec\n",
    "%matplotlib inline\n",
    "\n",
    "import pydata_google_auth\n",
    "from google.cloud import bigquery\n",
    "credentials = pydata_google_auth.get_user_credentials(\n",
    "  ['https://www.googleapis.com/auth/bigquery'],\n",
    ")\n",
    "\n",
    "project_name= 'project_name'\n",
    "client = bigquery.Client (project = project_name , credentials = credentials) \n",
    "\n",
    "pd.options.display.float_format = '{:.5f}'.format"
   ]
  },
  {
   "cell_type": "code",
   "execution_count": 3,
   "metadata": {},
   "outputs": [],
   "source": [
    "path = \"local_path\"\n",
    "ga_data = pd.read_pickle(f\"{path}/ga_sample_170101_170331.pkl\")"
   ]
  },
  {
   "cell_type": "code",
   "execution_count": 4,
   "metadata": {},
   "outputs": [],
   "source": [
    "ga_data['month'] = ga_data['date'].apply(lambda x: datetime.strptime(x,'%Y%m%d').month)"
   ]
  },
  {
   "cell_type": "markdown",
   "metadata": {},
   "source": [
    "### 가설1. Referral과 Social 유입채널에서의 구매전환율은 기간 변화에 관계없이 stable할 것이다.\n",
    "    -> stable함이 밝혀지면? "
   ]
  },
  {
   "cell_type": "markdown",
   "metadata": {},
   "source": [
    "#### 1) 가설 생성의 배경"
   ]
  },
  {
   "cell_type": "code",
   "execution_count": 5,
   "metadata": {},
   "outputs": [],
   "source": [
    "df1 = ga_data.groupby(['channelGrouping','month','isImpression']).agg({'SessionId':'nunique'})\n",
    "df2 = ga_data.groupby(['channelGrouping','month']).agg({'SessionId':'nunique'})"
   ]
  },
  {
   "cell_type": "code",
   "execution_count": 17,
   "metadata": {},
   "outputs": [
    {
     "data": {
      "text/html": [
       "<div>\n",
       "<style scoped>\n",
       "    .dataframe tbody tr th:only-of-type {\n",
       "        vertical-align: middle;\n",
       "    }\n",
       "\n",
       "    .dataframe tbody tr th {\n",
       "        vertical-align: top;\n",
       "    }\n",
       "\n",
       "    .dataframe thead th {\n",
       "        text-align: right;\n",
       "    }\n",
       "</style>\n",
       "<table border=\"1\" class=\"dataframe\">\n",
       "  <thead>\n",
       "    <tr style=\"text-align: right;\">\n",
       "      <th></th>\n",
       "      <th></th>\n",
       "      <th></th>\n",
       "      <th>SessionId</th>\n",
       "    </tr>\n",
       "    <tr>\n",
       "      <th>channelGrouping</th>\n",
       "      <th>month</th>\n",
       "      <th>isImpression</th>\n",
       "      <th></th>\n",
       "    </tr>\n",
       "  </thead>\n",
       "  <tbody>\n",
       "    <tr>\n",
       "      <th>(Other)</th>\n",
       "      <th>1</th>\n",
       "      <th>impression</th>\n",
       "      <td>1</td>\n",
       "    </tr>\n",
       "    <tr>\n",
       "      <th>Affiliates</th>\n",
       "      <th>1</th>\n",
       "      <th>e-commerce</th>\n",
       "      <td>134</td>\n",
       "    </tr>\n",
       "  </tbody>\n",
       "</table>\n",
       "</div>"
      ],
      "text/plain": [
       "                                    SessionId\n",
       "channelGrouping month isImpression           \n",
       "(Other)         1     impression            1\n",
       "Affiliates      1     e-commerce          134"
      ]
     },
     "metadata": {},
     "output_type": "display_data"
    },
    {
     "data": {
      "text/html": [
       "<div>\n",
       "<style scoped>\n",
       "    .dataframe tbody tr th:only-of-type {\n",
       "        vertical-align: middle;\n",
       "    }\n",
       "\n",
       "    .dataframe tbody tr th {\n",
       "        vertical-align: top;\n",
       "    }\n",
       "\n",
       "    .dataframe thead th {\n",
       "        text-align: right;\n",
       "    }\n",
       "</style>\n",
       "<table border=\"1\" class=\"dataframe\">\n",
       "  <thead>\n",
       "    <tr style=\"text-align: right;\">\n",
       "      <th></th>\n",
       "      <th></th>\n",
       "      <th>SessionId</th>\n",
       "    </tr>\n",
       "    <tr>\n",
       "      <th>channelGrouping</th>\n",
       "      <th>month</th>\n",
       "      <th></th>\n",
       "    </tr>\n",
       "  </thead>\n",
       "  <tbody>\n",
       "    <tr>\n",
       "      <th>(Other)</th>\n",
       "      <th>1</th>\n",
       "      <td>1</td>\n",
       "    </tr>\n",
       "    <tr>\n",
       "      <th>Affiliates</th>\n",
       "      <th>1</th>\n",
       "      <td>445</td>\n",
       "    </tr>\n",
       "  </tbody>\n",
       "</table>\n",
       "</div>"
      ],
      "text/plain": [
       "                       SessionId\n",
       "channelGrouping month           \n",
       "(Other)         1              1\n",
       "Affiliates      1            445"
      ]
     },
     "metadata": {},
     "output_type": "display_data"
    }
   ],
   "source": [
    "display(df1.head(2))\n",
    "display(df2.head(2))"
   ]
  },
  {
   "cell_type": "code",
   "execution_count": 6,
   "metadata": {},
   "outputs": [],
   "source": [
    "df = pd.merge(df1.reset_index().rename(columns = {'SessionId':'session_cnt_split'}),\n",
    "df2.reset_index().rename(columns = {'SessionId':'session_cnt_total'}),\n",
    "        on = ['channelGrouping','month'],how='left')\n",
    "\n",
    "df = df.assign(cvr = round(df['session_cnt_split'] / df['session_cnt_total'],4))\n",
    "df.loc[df['isImpression'] == 'impression','cvr'] = 0"
   ]
  },
  {
   "cell_type": "code",
   "execution_count": 7,
   "metadata": {},
   "outputs": [],
   "source": [
    "# Sort the DataFrame, if necessary.\n",
    "channel_cvr = df[df['isImpression'] == 'e-commerce'].sort_values(['channelGrouping', 'month'])\n",
    "\n",
    "# Use groupby and pcnt_change on the 'quantity' column.\n",
    "channel_cvr['change_pct_point'] = channel_cvr.groupby('channelGrouping')['cvr'].diff()"
   ]
  },
  {
   "cell_type": "code",
   "execution_count": 29,
   "metadata": {},
   "outputs": [
    {
     "data": {
      "text/html": [
       "<div>\n",
       "<style scoped>\n",
       "    .dataframe tbody tr th:only-of-type {\n",
       "        vertical-align: middle;\n",
       "    }\n",
       "\n",
       "    .dataframe tbody tr th {\n",
       "        vertical-align: top;\n",
       "    }\n",
       "\n",
       "    .dataframe thead th {\n",
       "        text-align: right;\n",
       "    }\n",
       "</style>\n",
       "<table border=\"1\" class=\"dataframe\">\n",
       "  <thead>\n",
       "    <tr style=\"text-align: right;\">\n",
       "      <th></th>\n",
       "      <th>channelGrouping</th>\n",
       "      <th>month</th>\n",
       "      <th>isImpression</th>\n",
       "      <th>session_cnt_split</th>\n",
       "      <th>session_cnt_total</th>\n",
       "      <th>cvr</th>\n",
       "      <th>change_pct_point</th>\n",
       "    </tr>\n",
       "  </thead>\n",
       "  <tbody>\n",
       "    <tr>\n",
       "      <th>31</th>\n",
       "      <td>Referral</td>\n",
       "      <td>1</td>\n",
       "      <td>e-commerce</td>\n",
       "      <td>1770</td>\n",
       "      <td>4469</td>\n",
       "      <td>0.39610</td>\n",
       "      <td>NaN</td>\n",
       "    </tr>\n",
       "    <tr>\n",
       "      <th>33</th>\n",
       "      <td>Referral</td>\n",
       "      <td>2</td>\n",
       "      <td>e-commerce</td>\n",
       "      <td>1595</td>\n",
       "      <td>4268</td>\n",
       "      <td>0.37370</td>\n",
       "      <td>-0.02240</td>\n",
       "    </tr>\n",
       "    <tr>\n",
       "      <th>35</th>\n",
       "      <td>Referral</td>\n",
       "      <td>3</td>\n",
       "      <td>e-commerce</td>\n",
       "      <td>1819</td>\n",
       "      <td>4622</td>\n",
       "      <td>0.39360</td>\n",
       "      <td>0.01990</td>\n",
       "    </tr>\n",
       "    <tr>\n",
       "      <th>37</th>\n",
       "      <td>Social</td>\n",
       "      <td>1</td>\n",
       "      <td>e-commerce</td>\n",
       "      <td>434</td>\n",
       "      <td>2687</td>\n",
       "      <td>0.16150</td>\n",
       "      <td>NaN</td>\n",
       "    </tr>\n",
       "    <tr>\n",
       "      <th>39</th>\n",
       "      <td>Social</td>\n",
       "      <td>2</td>\n",
       "      <td>e-commerce</td>\n",
       "      <td>541</td>\n",
       "      <td>3007</td>\n",
       "      <td>0.17990</td>\n",
       "      <td>0.01840</td>\n",
       "    </tr>\n",
       "    <tr>\n",
       "      <th>41</th>\n",
       "      <td>Social</td>\n",
       "      <td>3</td>\n",
       "      <td>e-commerce</td>\n",
       "      <td>518</td>\n",
       "      <td>2725</td>\n",
       "      <td>0.19010</td>\n",
       "      <td>0.01020</td>\n",
       "    </tr>\n",
       "  </tbody>\n",
       "</table>\n",
       "</div>"
      ],
      "text/plain": [
       "   channelGrouping  month isImpression  session_cnt_split  session_cnt_total  \\\n",
       "31        Referral      1   e-commerce               1770               4469   \n",
       "33        Referral      2   e-commerce               1595               4268   \n",
       "35        Referral      3   e-commerce               1819               4622   \n",
       "37          Social      1   e-commerce                434               2687   \n",
       "39          Social      2   e-commerce                541               3007   \n",
       "41          Social      3   e-commerce                518               2725   \n",
       "\n",
       "       cvr  change_pct_point  \n",
       "31 0.39610               NaN  \n",
       "33 0.37370          -0.02240  \n",
       "35 0.39360           0.01990  \n",
       "37 0.16150               NaN  \n",
       "39 0.17990           0.01840  \n",
       "41 0.19010           0.01020  "
      ]
     },
     "execution_count": 29,
     "metadata": {},
     "output_type": "execute_result"
    }
   ],
   "source": [
    "channel_cvr[channel_cvr['channelGrouping'].isin(['Referral','Social'])]"
   ]
  },
  {
   "cell_type": "code",
   "execution_count": 48,
   "metadata": {},
   "outputs": [
    {
     "data": {
      "text/html": [
       "<div>\n",
       "<style scoped>\n",
       "    .dataframe tbody tr th:only-of-type {\n",
       "        vertical-align: middle;\n",
       "    }\n",
       "\n",
       "    .dataframe tbody tr th {\n",
       "        vertical-align: top;\n",
       "    }\n",
       "\n",
       "    .dataframe thead th {\n",
       "        text-align: right;\n",
       "    }\n",
       "</style>\n",
       "<table border=\"1\" class=\"dataframe\">\n",
       "  <thead>\n",
       "    <tr style=\"text-align: right;\">\n",
       "      <th></th>\n",
       "      <th>channelGrouping</th>\n",
       "      <th>month</th>\n",
       "      <th>isImpression</th>\n",
       "      <th>session_cnt_split</th>\n",
       "      <th>session_cnt_total</th>\n",
       "      <th>cvr</th>\n",
       "      <th>change_pct_point</th>\n",
       "    </tr>\n",
       "  </thead>\n",
       "  <tbody>\n",
       "    <tr>\n",
       "      <th>1</th>\n",
       "      <td>Affiliates</td>\n",
       "      <td>1</td>\n",
       "      <td>e-commerce</td>\n",
       "      <td>134</td>\n",
       "      <td>445</td>\n",
       "      <td>0.30110</td>\n",
       "      <td>NaN</td>\n",
       "    </tr>\n",
       "    <tr>\n",
       "      <th>3</th>\n",
       "      <td>Affiliates</td>\n",
       "      <td>2</td>\n",
       "      <td>e-commerce</td>\n",
       "      <td>124</td>\n",
       "      <td>463</td>\n",
       "      <td>0.26780</td>\n",
       "      <td>-0.03330</td>\n",
       "    </tr>\n",
       "    <tr>\n",
       "      <th>5</th>\n",
       "      <td>Affiliates</td>\n",
       "      <td>3</td>\n",
       "      <td>e-commerce</td>\n",
       "      <td>148</td>\n",
       "      <td>503</td>\n",
       "      <td>0.29420</td>\n",
       "      <td>0.02640</td>\n",
       "    </tr>\n",
       "    <tr>\n",
       "      <th>7</th>\n",
       "      <td>Direct</td>\n",
       "      <td>1</td>\n",
       "      <td>e-commerce</td>\n",
       "      <td>1846</td>\n",
       "      <td>6545</td>\n",
       "      <td>0.28200</td>\n",
       "      <td>NaN</td>\n",
       "    </tr>\n",
       "    <tr>\n",
       "      <th>9</th>\n",
       "      <td>Direct</td>\n",
       "      <td>2</td>\n",
       "      <td>e-commerce</td>\n",
       "      <td>1596</td>\n",
       "      <td>5907</td>\n",
       "      <td>0.27020</td>\n",
       "      <td>-0.01180</td>\n",
       "    </tr>\n",
       "    <tr>\n",
       "      <th>11</th>\n",
       "      <td>Direct</td>\n",
       "      <td>3</td>\n",
       "      <td>e-commerce</td>\n",
       "      <td>1568</td>\n",
       "      <td>6176</td>\n",
       "      <td>0.25390</td>\n",
       "      <td>-0.01630</td>\n",
       "    </tr>\n",
       "    <tr>\n",
       "      <th>13</th>\n",
       "      <td>Display</td>\n",
       "      <td>1</td>\n",
       "      <td>e-commerce</td>\n",
       "      <td>168</td>\n",
       "      <td>403</td>\n",
       "      <td>0.41690</td>\n",
       "      <td>NaN</td>\n",
       "    </tr>\n",
       "    <tr>\n",
       "      <th>15</th>\n",
       "      <td>Display</td>\n",
       "      <td>2</td>\n",
       "      <td>e-commerce</td>\n",
       "      <td>110</td>\n",
       "      <td>318</td>\n",
       "      <td>0.34590</td>\n",
       "      <td>-0.07100</td>\n",
       "    </tr>\n",
       "    <tr>\n",
       "      <th>17</th>\n",
       "      <td>Display</td>\n",
       "      <td>3</td>\n",
       "      <td>e-commerce</td>\n",
       "      <td>109</td>\n",
       "      <td>331</td>\n",
       "      <td>0.32930</td>\n",
       "      <td>-0.01660</td>\n",
       "    </tr>\n",
       "    <tr>\n",
       "      <th>19</th>\n",
       "      <td>Organic Search</td>\n",
       "      <td>1</td>\n",
       "      <td>e-commerce</td>\n",
       "      <td>4982</td>\n",
       "      <td>18744</td>\n",
       "      <td>0.26580</td>\n",
       "      <td>NaN</td>\n",
       "    </tr>\n",
       "    <tr>\n",
       "      <th>21</th>\n",
       "      <td>Organic Search</td>\n",
       "      <td>2</td>\n",
       "      <td>e-commerce</td>\n",
       "      <td>4859</td>\n",
       "      <td>20041</td>\n",
       "      <td>0.24250</td>\n",
       "      <td>-0.02330</td>\n",
       "    </tr>\n",
       "    <tr>\n",
       "      <th>23</th>\n",
       "      <td>Organic Search</td>\n",
       "      <td>3</td>\n",
       "      <td>e-commerce</td>\n",
       "      <td>5287</td>\n",
       "      <td>22223</td>\n",
       "      <td>0.23790</td>\n",
       "      <td>-0.00460</td>\n",
       "    </tr>\n",
       "    <tr>\n",
       "      <th>25</th>\n",
       "      <td>Paid Search</td>\n",
       "      <td>1</td>\n",
       "      <td>e-commerce</td>\n",
       "      <td>437</td>\n",
       "      <td>1205</td>\n",
       "      <td>0.36270</td>\n",
       "      <td>NaN</td>\n",
       "    </tr>\n",
       "    <tr>\n",
       "      <th>27</th>\n",
       "      <td>Paid Search</td>\n",
       "      <td>2</td>\n",
       "      <td>e-commerce</td>\n",
       "      <td>274</td>\n",
       "      <td>915</td>\n",
       "      <td>0.29950</td>\n",
       "      <td>-0.06320</td>\n",
       "    </tr>\n",
       "    <tr>\n",
       "      <th>29</th>\n",
       "      <td>Paid Search</td>\n",
       "      <td>3</td>\n",
       "      <td>e-commerce</td>\n",
       "      <td>287</td>\n",
       "      <td>812</td>\n",
       "      <td>0.35340</td>\n",
       "      <td>0.05390</td>\n",
       "    </tr>\n",
       "    <tr>\n",
       "      <th>31</th>\n",
       "      <td>Referral</td>\n",
       "      <td>1</td>\n",
       "      <td>e-commerce</td>\n",
       "      <td>1770</td>\n",
       "      <td>4469</td>\n",
       "      <td>0.39610</td>\n",
       "      <td>NaN</td>\n",
       "    </tr>\n",
       "    <tr>\n",
       "      <th>33</th>\n",
       "      <td>Referral</td>\n",
       "      <td>2</td>\n",
       "      <td>e-commerce</td>\n",
       "      <td>1595</td>\n",
       "      <td>4268</td>\n",
       "      <td>0.37370</td>\n",
       "      <td>-0.02240</td>\n",
       "    </tr>\n",
       "    <tr>\n",
       "      <th>35</th>\n",
       "      <td>Referral</td>\n",
       "      <td>3</td>\n",
       "      <td>e-commerce</td>\n",
       "      <td>1819</td>\n",
       "      <td>4622</td>\n",
       "      <td>0.39360</td>\n",
       "      <td>0.01990</td>\n",
       "    </tr>\n",
       "    <tr>\n",
       "      <th>37</th>\n",
       "      <td>Social</td>\n",
       "      <td>1</td>\n",
       "      <td>e-commerce</td>\n",
       "      <td>434</td>\n",
       "      <td>2687</td>\n",
       "      <td>0.16150</td>\n",
       "      <td>NaN</td>\n",
       "    </tr>\n",
       "    <tr>\n",
       "      <th>39</th>\n",
       "      <td>Social</td>\n",
       "      <td>2</td>\n",
       "      <td>e-commerce</td>\n",
       "      <td>541</td>\n",
       "      <td>3007</td>\n",
       "      <td>0.17990</td>\n",
       "      <td>0.01840</td>\n",
       "    </tr>\n",
       "    <tr>\n",
       "      <th>41</th>\n",
       "      <td>Social</td>\n",
       "      <td>3</td>\n",
       "      <td>e-commerce</td>\n",
       "      <td>518</td>\n",
       "      <td>2725</td>\n",
       "      <td>0.19010</td>\n",
       "      <td>0.01020</td>\n",
       "    </tr>\n",
       "  </tbody>\n",
       "</table>\n",
       "</div>"
      ],
      "text/plain": [
       "   channelGrouping  month isImpression  session_cnt_split  session_cnt_total  \\\n",
       "1       Affiliates      1   e-commerce                134                445   \n",
       "3       Affiliates      2   e-commerce                124                463   \n",
       "5       Affiliates      3   e-commerce                148                503   \n",
       "7           Direct      1   e-commerce               1846               6545   \n",
       "9           Direct      2   e-commerce               1596               5907   \n",
       "11          Direct      3   e-commerce               1568               6176   \n",
       "13         Display      1   e-commerce                168                403   \n",
       "15         Display      2   e-commerce                110                318   \n",
       "17         Display      3   e-commerce                109                331   \n",
       "19  Organic Search      1   e-commerce               4982              18744   \n",
       "21  Organic Search      2   e-commerce               4859              20041   \n",
       "23  Organic Search      3   e-commerce               5287              22223   \n",
       "25     Paid Search      1   e-commerce                437               1205   \n",
       "27     Paid Search      2   e-commerce                274                915   \n",
       "29     Paid Search      3   e-commerce                287                812   \n",
       "31        Referral      1   e-commerce               1770               4469   \n",
       "33        Referral      2   e-commerce               1595               4268   \n",
       "35        Referral      3   e-commerce               1819               4622   \n",
       "37          Social      1   e-commerce                434               2687   \n",
       "39          Social      2   e-commerce                541               3007   \n",
       "41          Social      3   e-commerce                518               2725   \n",
       "\n",
       "       cvr  change_pct_point  \n",
       "1  0.30110               NaN  \n",
       "3  0.26780          -0.03330  \n",
       "5  0.29420           0.02640  \n",
       "7  0.28200               NaN  \n",
       "9  0.27020          -0.01180  \n",
       "11 0.25390          -0.01630  \n",
       "13 0.41690               NaN  \n",
       "15 0.34590          -0.07100  \n",
       "17 0.32930          -0.01660  \n",
       "19 0.26580               NaN  \n",
       "21 0.24250          -0.02330  \n",
       "23 0.23790          -0.00460  \n",
       "25 0.36270               NaN  \n",
       "27 0.29950          -0.06320  \n",
       "29 0.35340           0.05390  \n",
       "31 0.39610               NaN  \n",
       "33 0.37370          -0.02240  \n",
       "35 0.39360           0.01990  \n",
       "37 0.16150               NaN  \n",
       "39 0.17990           0.01840  \n",
       "41 0.19010           0.01020  "
      ]
     },
     "execution_count": 48,
     "metadata": {},
     "output_type": "execute_result"
    }
   ],
   "source": [
    "channel_cvr"
   ]
  },
  {
   "cell_type": "markdown",
   "metadata": {},
   "source": [
    "- Referral 은 CVR 37~ 39%, Social은 CVR 16~ 19%으로, 구매전환율의 추이가 다른 채널에 비해 stable한 편으로 보입니다."
   ]
  },
  {
   "cell_type": "code",
   "execution_count": 8,
   "metadata": {},
   "outputs": [
    {
     "data": {
      "text/plain": [
       "Text(0.5, 0, 'MONTH')"
      ]
     },
     "execution_count": 8,
     "metadata": {},
     "output_type": "execute_result"
    },
    {
     "data": {
      "image/png": "[encoded data removed]",
      "text/plain": [
       "<Figure size 1080x504 with 1 Axes>"
      ]
     },
     "metadata": {
      "needs_background": "light"
     },
     "output_type": "display_data"
    }
   ],
   "source": [
    "ax = pd.pivot_table(data=channel_cvr, values='cvr',columns='channelGrouping',index='month',aggfunc='sum')\\\n",
    ".plot(kind='bar',figsize=(15,7))\n",
    "ax.set_title('2017년 1분기 유입 채널별 Monthly CVR')\n",
    "ax.set_ylabel(\"CVR\")\n",
    "ax.set_xlabel(\"MONTH\")"
   ]
  },
  {
   "cell_type": "code",
   "execution_count": 9,
   "metadata": {
    "scrolled": true
   },
   "outputs": [
    {
     "data": {
      "text/plain": [
       "Text(0.5, 0, 'MONTH')"
      ]
     },
     "execution_count": 9,
     "metadata": {},
     "output_type": "execute_result"
    },
    {
     "data": {
      "image/png": "[encoded data removed]",
      "text/plain": [
       "<Figure size 1080x504 with 1 Axes>"
      ]
     },
     "metadata": {
      "needs_background": "light"
     },
     "output_type": "display_data"
    }
   ],
   "source": [
    "ax = pd.pivot_table(data=channel_cvr[channel_cvr['channelGrouping'].isin(['Referral','Social'])], values='cvr',columns='channelGrouping',index='month',aggfunc='sum')\\\n",
    ".plot(kind='bar',figsize=(15,7))\n",
    "ax.set_title('2017년 1분기 Referral&Social 채널 Monthly CVR')\n",
    "ax.set_ylabel(\"CVR\")\n",
    "ax.set_xlabel(\"MONTH\")"
   ]
  },
  {
   "cell_type": "markdown",
   "metadata": {},
   "source": [
    "#### 2) 가설 검증 Plan\n",
    "- 사용 데이터 : 2017년도 4월 ~ 12월 데이터의 유입 채널별 월별 유입 및 구매 수 데이터\n",
    "- 각 채널별 월별 구매전환율의 변화를 확인합니다. (table 및 Trend 시각화)"
   ]
  },
  {
   "cell_type": "code",
   "execution_count": 13,
   "metadata": {},
   "outputs": [],
   "source": [
    "import time\n",
    "# Query 문 -- 기초 Source SQL code를 view로 저장하여 사용하였습니다.\n",
    "s_date = '20170101'\n",
    "e_date = '20170731'\n",
    "\n",
    "s_time = time.time()\n",
    "query = f\"\"\"\n",
    "select channelGrouping, extract(month from parse_date('%Y%m%d', date)) as month,\n",
    "count(distinct SessionId) as session_cnt\n",
    "from `ga_sample.ga_sample_2017`\n",
    "where 1=1\n",
    "and date between \"{s_date}\" and \"{e_date}\"\n",
    "group by channelGrouping, extract(month from parse_date('%Y%m%d', date))\n",
    "\"\"\"\n",
    "channel_monthly_total = client.query(query).to_dataframe()\n",
    "print(time.time()-s_time)\n",
    "\n",
    "s_time = time.time()\n",
    "query = f\"\"\"\n",
    "select channelGrouping, extract(month from parse_date('%Y%m%d', date)) as month,\n",
    "count(distinct SessionId) as session_cnt\n",
    "from `ga_sample.ga_sample_2017`\n",
    "where 1=1\n",
    "and date between \"{s_date}\" and \"{e_date}\"\n",
    "and isImpression = 'e-commerce'\n",
    "group by channelGrouping, extract(month from parse_date('%Y%m%d', date))\n",
    "\"\"\"\n",
    "channel_monthly_buy = client.query(query).to_dataframe()\n",
    "print(time.time()-s_time)"
   ]
  },
  {
   "cell_type": "markdown",
   "metadata": {},
   "source": [
    "- 데이터가 17년도 8월까지 있는 것으로 확인, 8월도 31일 전체일수의 데이터가 있는 것이 아니기 때문에 7월 데이터까지만 검증에 활용하였습니다."
   ]
  },
  {
   "cell_type": "code",
   "execution_count": 27,
   "metadata": {},
   "outputs": [
    {
     "data": {
      "text/html": [
       "<div>\n",
       "<style scoped>\n",
       "    .dataframe tbody tr th:only-of-type {\n",
       "        vertical-align: middle;\n",
       "    }\n",
       "\n",
       "    .dataframe tbody tr th {\n",
       "        vertical-align: top;\n",
       "    }\n",
       "\n",
       "    .dataframe thead th {\n",
       "        text-align: right;\n",
       "    }\n",
       "</style>\n",
       "<table border=\"1\" class=\"dataframe\">\n",
       "  <thead>\n",
       "    <tr style=\"text-align: right;\">\n",
       "      <th></th>\n",
       "      <th>channelGrouping</th>\n",
       "      <th>month</th>\n",
       "      <th>session_cnt</th>\n",
       "    </tr>\n",
       "  </thead>\n",
       "  <tbody>\n",
       "    <tr>\n",
       "      <th>0</th>\n",
       "      <td>Direct</td>\n",
       "      <td>4</td>\n",
       "      <td>7605</td>\n",
       "    </tr>\n",
       "    <tr>\n",
       "      <th>1</th>\n",
       "      <td>Paid Search</td>\n",
       "      <td>4</td>\n",
       "      <td>834</td>\n",
       "    </tr>\n",
       "  </tbody>\n",
       "</table>\n",
       "</div>"
      ],
      "text/plain": [
       "  channelGrouping  month  session_cnt\n",
       "0          Direct      4         7605\n",
       "1     Paid Search      4          834"
      ]
     },
     "metadata": {},
     "output_type": "display_data"
    },
    {
     "data": {
      "text/html": [
       "<div>\n",
       "<style scoped>\n",
       "    .dataframe tbody tr th:only-of-type {\n",
       "        vertical-align: middle;\n",
       "    }\n",
       "\n",
       "    .dataframe tbody tr th {\n",
       "        vertical-align: top;\n",
       "    }\n",
       "\n",
       "    .dataframe thead th {\n",
       "        text-align: right;\n",
       "    }\n",
       "</style>\n",
       "<table border=\"1\" class=\"dataframe\">\n",
       "  <thead>\n",
       "    <tr style=\"text-align: right;\">\n",
       "      <th></th>\n",
       "      <th>channelGrouping</th>\n",
       "      <th>month</th>\n",
       "      <th>session_cnt</th>\n",
       "    </tr>\n",
       "  </thead>\n",
       "  <tbody>\n",
       "    <tr>\n",
       "      <th>0</th>\n",
       "      <td>Organic Search</td>\n",
       "      <td>6</td>\n",
       "      <td>4941</td>\n",
       "    </tr>\n",
       "    <tr>\n",
       "      <th>1</th>\n",
       "      <td>Social</td>\n",
       "      <td>4</td>\n",
       "      <td>483</td>\n",
       "    </tr>\n",
       "  </tbody>\n",
       "</table>\n",
       "</div>"
      ],
      "text/plain": [
       "  channelGrouping  month  session_cnt\n",
       "0  Organic Search      6         4941\n",
       "1          Social      4          483"
      ]
     },
     "metadata": {},
     "output_type": "display_data"
    }
   ],
   "source": [
    "display(channel_monthly_total.head(2))\n",
    "display(channel_monthly_buy.head(2))"
   ]
  },
  {
   "cell_type": "code",
   "execution_count": 6,
   "metadata": {},
   "outputs": [],
   "source": [
    "channel_monthly_buy = channel_monthly_buy.rename(columns = {'session_cnt':'buy_session_cnt'})"
   ]
  },
  {
   "cell_type": "code",
   "execution_count": 7,
   "metadata": {},
   "outputs": [],
   "source": [
    "channel_cvr = pd.merge(channel_monthly_total, channel_monthly_buy, on = ['channelGrouping','month'],how='outer')"
   ]
  },
  {
   "cell_type": "code",
   "execution_count": 30,
   "metadata": {},
   "outputs": [],
   "source": [
    "#channel_cvr = channel_cvr[channel_cvr['channelGrouping'].isin(['Social','Referral'])].sort_values(['channelGrouping','month'])"
   ]
  },
  {
   "cell_type": "code",
   "execution_count": 8,
   "metadata": {},
   "outputs": [],
   "source": [
    "channel_cvr = channel_cvr.sort_values('month')"
   ]
  },
  {
   "cell_type": "code",
   "execution_count": 9,
   "metadata": {},
   "outputs": [],
   "source": [
    "#channel_cvr = channel_cvr[channel_cvr['month'] != 8]\n",
    "channel_cvr = channel_cvr.assign(cvr = round(channel_cvr['buy_session_cnt'] / channel_cvr['session_cnt'], 4))\n",
    "channel_cvr = channel_cvr.sort_values('month')\n",
    "channel_cvr['change_pct_point'] = channel_cvr.groupby('channelGrouping')['cvr'].diff()"
   ]
  },
  {
   "cell_type": "code",
   "execution_count": 11,
   "metadata": {},
   "outputs": [
    {
     "data": {
      "text/html": [
       "<div>\n",
       "<style scoped>\n",
       "    .dataframe tbody tr th:only-of-type {\n",
       "        vertical-align: middle;\n",
       "    }\n",
       "\n",
       "    .dataframe tbody tr th {\n",
       "        vertical-align: top;\n",
       "    }\n",
       "\n",
       "    .dataframe thead th {\n",
       "        text-align: right;\n",
       "    }\n",
       "</style>\n",
       "<table border=\"1\" class=\"dataframe\">\n",
       "  <thead>\n",
       "    <tr style=\"text-align: right;\">\n",
       "      <th></th>\n",
       "      <th>channelGrouping</th>\n",
       "      <th>month</th>\n",
       "      <th>session_cnt</th>\n",
       "      <th>buy_session_cnt</th>\n",
       "      <th>cvr</th>\n",
       "      <th>change_pct_point</th>\n",
       "    </tr>\n",
       "  </thead>\n",
       "  <tbody>\n",
       "    <tr>\n",
       "      <th>43</th>\n",
       "      <td>Referral</td>\n",
       "      <td>1</td>\n",
       "      <td>4469</td>\n",
       "      <td>1770.00000</td>\n",
       "      <td>0.39610</td>\n",
       "      <td>NaN</td>\n",
       "    </tr>\n",
       "    <tr>\n",
       "      <th>2</th>\n",
       "      <td>Referral</td>\n",
       "      <td>2</td>\n",
       "      <td>4268</td>\n",
       "      <td>1595.00000</td>\n",
       "      <td>0.37370</td>\n",
       "      <td>-0.02240</td>\n",
       "    </tr>\n",
       "    <tr>\n",
       "      <th>18</th>\n",
       "      <td>Referral</td>\n",
       "      <td>3</td>\n",
       "      <td>4622</td>\n",
       "      <td>1819.00000</td>\n",
       "      <td>0.39360</td>\n",
       "      <td>0.01990</td>\n",
       "    </tr>\n",
       "    <tr>\n",
       "      <th>29</th>\n",
       "      <td>Referral</td>\n",
       "      <td>4</td>\n",
       "      <td>4741</td>\n",
       "      <td>1946.00000</td>\n",
       "      <td>0.41050</td>\n",
       "      <td>0.01690</td>\n",
       "    </tr>\n",
       "    <tr>\n",
       "      <th>39</th>\n",
       "      <td>Referral</td>\n",
       "      <td>5</td>\n",
       "      <td>5595</td>\n",
       "      <td>2207.00000</td>\n",
       "      <td>0.39450</td>\n",
       "      <td>-0.01600</td>\n",
       "    </tr>\n",
       "    <tr>\n",
       "      <th>13</th>\n",
       "      <td>Referral</td>\n",
       "      <td>6</td>\n",
       "      <td>5802</td>\n",
       "      <td>2341.00000</td>\n",
       "      <td>0.40350</td>\n",
       "      <td>0.00900</td>\n",
       "    </tr>\n",
       "    <tr>\n",
       "      <th>20</th>\n",
       "      <td>Referral</td>\n",
       "      <td>7</td>\n",
       "      <td>5715</td>\n",
       "      <td>2599.00000</td>\n",
       "      <td>0.45480</td>\n",
       "      <td>0.05130</td>\n",
       "    </tr>\n",
       "    <tr>\n",
       "      <th>44</th>\n",
       "      <td>Social</td>\n",
       "      <td>1</td>\n",
       "      <td>2687</td>\n",
       "      <td>434.00000</td>\n",
       "      <td>0.16150</td>\n",
       "      <td>NaN</td>\n",
       "    </tr>\n",
       "    <tr>\n",
       "      <th>25</th>\n",
       "      <td>Social</td>\n",
       "      <td>2</td>\n",
       "      <td>3007</td>\n",
       "      <td>541.00000</td>\n",
       "      <td>0.17990</td>\n",
       "      <td>0.01840</td>\n",
       "    </tr>\n",
       "    <tr>\n",
       "      <th>38</th>\n",
       "      <td>Social</td>\n",
       "      <td>3</td>\n",
       "      <td>2725</td>\n",
       "      <td>518.00000</td>\n",
       "      <td>0.19010</td>\n",
       "      <td>0.01020</td>\n",
       "    </tr>\n",
       "    <tr>\n",
       "      <th>4</th>\n",
       "      <td>Social</td>\n",
       "      <td>4</td>\n",
       "      <td>2926</td>\n",
       "      <td>483.00000</td>\n",
       "      <td>0.16510</td>\n",
       "      <td>-0.02500</td>\n",
       "    </tr>\n",
       "    <tr>\n",
       "      <th>45</th>\n",
       "      <td>Social</td>\n",
       "      <td>5</td>\n",
       "      <td>2163</td>\n",
       "      <td>363.00000</td>\n",
       "      <td>0.16780</td>\n",
       "      <td>0.00270</td>\n",
       "    </tr>\n",
       "    <tr>\n",
       "      <th>15</th>\n",
       "      <td>Social</td>\n",
       "      <td>6</td>\n",
       "      <td>2487</td>\n",
       "      <td>286.00000</td>\n",
       "      <td>0.11500</td>\n",
       "      <td>-0.05280</td>\n",
       "    </tr>\n",
       "    <tr>\n",
       "      <th>46</th>\n",
       "      <td>Social</td>\n",
       "      <td>7</td>\n",
       "      <td>6777</td>\n",
       "      <td>754.00000</td>\n",
       "      <td>0.11130</td>\n",
       "      <td>-0.00370</td>\n",
       "    </tr>\n",
       "  </tbody>\n",
       "</table>\n",
       "</div>"
      ],
      "text/plain": [
       "   channelGrouping  month  session_cnt  buy_session_cnt     cvr  \\\n",
       "43        Referral      1         4469       1770.00000 0.39610   \n",
       "2         Referral      2         4268       1595.00000 0.37370   \n",
       "18        Referral      3         4622       1819.00000 0.39360   \n",
       "29        Referral      4         4741       1946.00000 0.41050   \n",
       "39        Referral      5         5595       2207.00000 0.39450   \n",
       "13        Referral      6         5802       2341.00000 0.40350   \n",
       "20        Referral      7         5715       2599.00000 0.45480   \n",
       "44          Social      1         2687        434.00000 0.16150   \n",
       "25          Social      2         3007        541.00000 0.17990   \n",
       "38          Social      3         2725        518.00000 0.19010   \n",
       "4           Social      4         2926        483.00000 0.16510   \n",
       "45          Social      5         2163        363.00000 0.16780   \n",
       "15          Social      6         2487        286.00000 0.11500   \n",
       "46          Social      7         6777        754.00000 0.11130   \n",
       "\n",
       "    change_pct_point  \n",
       "43               NaN  \n",
       "2           -0.02240  \n",
       "18           0.01990  \n",
       "29           0.01690  \n",
       "39          -0.01600  \n",
       "13           0.00900  \n",
       "20           0.05130  \n",
       "44               NaN  \n",
       "25           0.01840  \n",
       "38           0.01020  \n",
       "4           -0.02500  \n",
       "45           0.00270  \n",
       "15          -0.05280  \n",
       "46          -0.00370  "
      ]
     },
     "execution_count": 11,
     "metadata": {},
     "output_type": "execute_result"
    }
   ],
   "source": [
    "channel_cvr[channel_cvr['channelGrouping'].isin(['Social','Referral'])].sort_values(['channelGrouping','month'])"
   ]
  },
  {
   "cell_type": "code",
   "execution_count": 34,
   "metadata": {},
   "outputs": [
    {
     "data": {
      "image/png": "[encoded data removed]",
      "text/plain": [
       "<Figure size 1080x504 with 1 Axes>"
      ]
     },
     "metadata": {
      "needs_background": "light"
     },
     "output_type": "display_data"
    }
   ],
   "source": [
    "# 제목, 축 이름 추가하기\n",
    "ax = pd.pivot_table(data=channel_cvr, values='cvr',columns='channelGrouping',index='month',aggfunc='sum')\\\n",
    ".plot(kind='bar',figsize=(15,7))\n",
    "ax.set_title('2017년 1분기 유입 채널별 Monthly CVR')\n",
    "ax.set_ylabel(\"CVR\")\n",
    "ax.set_xlabel(\"MONTH\")"
   ]
  },
  {
   "cell_type": "markdown",
   "metadata": {},
   "source": [
    "#### 3) 가설 검증 결과"
   ]
  },
  {
   "cell_type": "markdown",
   "metadata": {},
   "source": [
    "- Referral 채널 구매전환율은 6월까진 stable하나 7월에 약 5%point 가량 소폭 증가하였고,\n",
    "- Social 채널의 경우는 1 ~ 3월의 약 16% ~ 19% 에서 4 ~ 7월은 약 11% ~ 16% 로 구매전환율이 하락하는 추세입니다.\n",
    "- Social은 특히 7월에 세션 유입이 많은데, 구매 전환율은 오히려 줄었습니다. 이 원인을 좀 더 파악하여 어느 채널에 주력하는 것이 좋은지 확인해보는 것이 좋겠습니다."
   ]
  },
  {
   "cell_type": "markdown",
   "metadata": {},
   "source": [
    "### 가설2. 남성 제품으로 유입되는 고객은 Direct 채널을 통해서 주로 유입될 것이다. (Men's 세션과 Direct의 상관관계)"
   ]
  },
  {
   "cell_type": "markdown",
   "metadata": {},
   "source": [
    "#### 1) 가설 생성의 배경"
   ]
  },
  {
   "cell_type": "code",
   "execution_count": 26,
   "metadata": {},
   "outputs": [
    {
     "name": "stdout",
     "output_type": "stream",
     "text": [
      "channel:  Direct\n"
     ]
    },
    {
     "data": {
      "image/png": "[encoded data removed]",
      "text/plain": [
       "<Figure size 1080x504 with 1 Axes>"
      ]
     },
     "metadata": {},
     "output_type": "display_data"
    },
    {
     "data": {
      "image/png": "[encoded data removed]",
      "text/plain": [
       "<Figure size 1080x504 with 1 Axes>"
      ]
     },
     "metadata": {},
     "output_type": "display_data"
    }
   ],
   "source": [
    "ax = pd.pivot_table(data=ga_data[(ga_data['v2ProductCategory'].str.contains('Men'))], \\\n",
    "                         values='SessionId',index='date',aggfunc='nunique').plot(figsize=(15,7))\n",
    "ax.set_title(\"Men's\")\n",
    "ax.set_ylabel('Session Count(unique)')\n",
    "for channel in ga_data['channelGrouping'].unique():\n",
    "    if channel != 'Direct':\n",
    "        continue\n",
    "    #print('channel: ',channel)\n",
    "    ax = pd.pivot_table(data=ga_data[ga_data['channelGrouping'] == channel], \\\n",
    "                       index='date',columns='channelGrouping',values='SessionId',aggfunc='nunique').plot(figsize=(15,7))\n",
    "    plt.show()\n",
    "\n",
    "# legend 변경 필요: SessionId -> Session count"
   ]
  },
  {
   "cell_type": "markdown",
   "metadata": {},
   "source": [
    "- Direct 채널 traffic trend와 Men's 카테고리의 traffic trend가 비슷하게 흘러가는 것이 확인되어 위와 같은 가설을 제시하였습니다."
   ]
  },
  {
   "cell_type": "markdown",
   "metadata": {},
   "source": [
    "#### 2) 가설 검증 Plan\n",
    "- 사용 데이터 : 2017년도 1월 ~ 7월 Men's 카테고리와 Direct 채널의 데이터\n",
    "- Scatter Plot 시각화 + 상관관계 분석"
   ]
  },
  {
   "cell_type": "code",
   "execution_count": 12,
   "metadata": {},
   "outputs": [
    {
     "name": "stdout",
     "output_type": "stream",
     "text": [
      "13.042409896850586\n",
      "11.360637187957764\n"
     ]
    }
   ],
   "source": [
    "# Query\n",
    "import time\n",
    "# Query 문\n",
    "s_date = '20170101'\n",
    "e_date = '20170731'\n",
    "\n",
    "s_time = time.time()\n",
    "query = f\"\"\"\n",
    "select channelGrouping, parse_date('%Y%m%d', date) as date,\n",
    "count(distinct SessionId) as session_cnt\n",
    "from `ga_sample.ga_sample_2017`\n",
    "where 1=1\n",
    "and channelGrouping = 'Direct'\n",
    "and date between \"{s_date}\" and \"{e_date}\"\n",
    "group by channelGrouping, parse_date('%Y%m%d', date)\n",
    "\"\"\"\n",
    "direct_daily = client.query(query).to_dataframe()\n",
    "print(time.time()-s_time)\n",
    "\n",
    "s_time = time.time()\n",
    "query = f\"\"\"\n",
    "select parse_date('%Y%m%d', date) as date,\n",
    "count(distinct SessionId) as session_cnt\n",
    "from `ga_sample.ga_sample_2017`\n",
    "where 1=1\n",
    "and v2ProductCategory like \"%%Men's%%\"\n",
    "and date between \"{s_date}\" and \"{e_date}\"\n",
    "group by parse_date('%Y%m%d', date)\n",
    "\"\"\"\n",
    "mens_daily= client.query(query).to_dataframe()\n",
    "print(time.time()-s_time)"
   ]
  },
  {
   "cell_type": "code",
   "execution_count": 15,
   "metadata": {},
   "outputs": [],
   "source": [
    "mens_daily.rename(columns = {'session_cnt':'mens_session_cnt'},inplace=True)"
   ]
  },
  {
   "cell_type": "code",
   "execution_count": 17,
   "metadata": {},
   "outputs": [],
   "source": [
    "direct_daily.rename(columns = {'session_cnt':'direct_session_cnt'}, inplace=True)"
   ]
  },
  {
   "cell_type": "code",
   "execution_count": 21,
   "metadata": {},
   "outputs": [],
   "source": [
    "daily_df = pd.merge(direct_daily, mens_daily, on ='date',how='outer').fillna(0)"
   ]
  },
  {
   "cell_type": "code",
   "execution_count": 22,
   "metadata": {},
   "outputs": [
    {
     "data": {
      "text/html": [
       "<div>\n",
       "<style scoped>\n",
       "    .dataframe tbody tr th:only-of-type {\n",
       "        vertical-align: middle;\n",
       "    }\n",
       "\n",
       "    .dataframe tbody tr th {\n",
       "        vertical-align: top;\n",
       "    }\n",
       "\n",
       "    .dataframe thead th {\n",
       "        text-align: right;\n",
       "    }\n",
       "</style>\n",
       "<table border=\"1\" class=\"dataframe\">\n",
       "  <thead>\n",
       "    <tr style=\"text-align: right;\">\n",
       "      <th></th>\n",
       "      <th>channelGrouping</th>\n",
       "      <th>date</th>\n",
       "      <th>direct_session_cnt</th>\n",
       "      <th>mens_session_cnt</th>\n",
       "    </tr>\n",
       "  </thead>\n",
       "  <tbody>\n",
       "    <tr>\n",
       "      <th>0</th>\n",
       "      <td>Direct</td>\n",
       "      <td>2017-01-01</td>\n",
       "      <td>105</td>\n",
       "      <td>235</td>\n",
       "    </tr>\n",
       "    <tr>\n",
       "      <th>1</th>\n",
       "      <td>Direct</td>\n",
       "      <td>2017-04-09</td>\n",
       "      <td>156</td>\n",
       "      <td>240</td>\n",
       "    </tr>\n",
       "    <tr>\n",
       "      <th>2</th>\n",
       "      <td>Direct</td>\n",
       "      <td>2017-07-23</td>\n",
       "      <td>191</td>\n",
       "      <td>234</td>\n",
       "    </tr>\n",
       "    <tr>\n",
       "      <th>3</th>\n",
       "      <td>Direct</td>\n",
       "      <td>2017-06-21</td>\n",
       "      <td>208</td>\n",
       "      <td>361</td>\n",
       "    </tr>\n",
       "    <tr>\n",
       "      <th>4</th>\n",
       "      <td>Direct</td>\n",
       "      <td>2017-04-23</td>\n",
       "      <td>139</td>\n",
       "      <td>242</td>\n",
       "    </tr>\n",
       "    <tr>\n",
       "      <th>...</th>\n",
       "      <td>...</td>\n",
       "      <td>...</td>\n",
       "      <td>...</td>\n",
       "      <td>...</td>\n",
       "    </tr>\n",
       "    <tr>\n",
       "      <th>207</th>\n",
       "      <td>Direct</td>\n",
       "      <td>2017-05-02</td>\n",
       "      <td>357</td>\n",
       "      <td>426</td>\n",
       "    </tr>\n",
       "    <tr>\n",
       "      <th>208</th>\n",
       "      <td>Direct</td>\n",
       "      <td>2017-04-28</td>\n",
       "      <td>348</td>\n",
       "      <td>433</td>\n",
       "    </tr>\n",
       "    <tr>\n",
       "      <th>209</th>\n",
       "      <td>Direct</td>\n",
       "      <td>2017-01-30</td>\n",
       "      <td>260</td>\n",
       "      <td>392</td>\n",
       "    </tr>\n",
       "    <tr>\n",
       "      <th>210</th>\n",
       "      <td>Direct</td>\n",
       "      <td>2017-03-26</td>\n",
       "      <td>113</td>\n",
       "      <td>135</td>\n",
       "    </tr>\n",
       "    <tr>\n",
       "      <th>211</th>\n",
       "      <td>Direct</td>\n",
       "      <td>2017-03-25</td>\n",
       "      <td>90</td>\n",
       "      <td>147</td>\n",
       "    </tr>\n",
       "  </tbody>\n",
       "</table>\n",
       "<p>212 rows × 4 columns</p>\n",
       "</div>"
      ],
      "text/plain": [
       "    channelGrouping        date  direct_session_cnt  mens_session_cnt\n",
       "0            Direct  2017-01-01                 105               235\n",
       "1            Direct  2017-04-09                 156               240\n",
       "2            Direct  2017-07-23                 191               234\n",
       "3            Direct  2017-06-21                 208               361\n",
       "4            Direct  2017-04-23                 139               242\n",
       "..              ...         ...                 ...               ...\n",
       "207          Direct  2017-05-02                 357               426\n",
       "208          Direct  2017-04-28                 348               433\n",
       "209          Direct  2017-01-30                 260               392\n",
       "210          Direct  2017-03-26                 113               135\n",
       "211          Direct  2017-03-25                  90               147\n",
       "\n",
       "[212 rows x 4 columns]"
      ]
     },
     "execution_count": 22,
     "metadata": {},
     "output_type": "execute_result"
    }
   ],
   "source": [
    "daily_df"
   ]
  },
  {
   "cell_type": "markdown",
   "metadata": {},
   "source": [
    "#### 먼저, scatter plot으로 시각화하여 direct 세션 수와 mens 세션 수의 관계를 단순하게 파악해봅니다."
   ]
  },
  {
   "cell_type": "code",
   "execution_count": 30,
   "metadata": {},
   "outputs": [
    {
     "data": {
      "image/png": "[encoded data removed]",
      "text/plain": [
       "<Figure size 806.4x504 with 1 Axes>"
      ]
     },
     "metadata": {},
     "output_type": "display_data"
    }
   ],
   "source": [
    "sns.set_style(\"white\")\n",
    "gridobj = sns.lmplot(x=\"direct_session_cnt\", y=\"mens_session_cnt\", data=daily_df, \n",
    "                     height=7, aspect=1.6, robust=True, palette='tab10',\n",
    "                     scatter_kws=dict(s=60, linewidths=.7, edgecolors='black'))\n",
    "\n",
    "# Decorations\n",
    "#gridobj.set(xlim=(0.5, 7.5), ylim=(0, 50))\n",
    "plt.title(\"Scatterplot with line of best fit to find out correlation between [Direct channel session] and [Mens cate Session]\", fontsize=20)\n",
    "plt.show()"
   ]
  },
  {
   "cell_type": "markdown",
   "metadata": {},
   "source": [
    "- 그래프로 보았을 때에는 두 데이터가 어느 정도 **양의 상관 관계**가 있는 것으로 보입니다.\n",
    "\n",
    "#### 상관분석 전에, 데이터의 정규성을 확인하기 위해 Shapiro-Wilk Test를 수행합니다."
   ]
  },
  {
   "cell_type": "code",
   "execution_count": 24,
   "metadata": {},
   "outputs": [
    {
     "name": "stdout",
     "output_type": "stream",
     "text": [
      "Direct channel normality:  ShapiroResult(statistic=0.6423903107643127, pvalue=7.405840112653889e-21) Mens cate normality:  ShapiroResult(statistic=0.9615209698677063, pvalue=1.6630579921184108e-05)\n"
     ]
    }
   ],
   "source": [
    "# 정규성 확인 (정규분포를 만족하는지 확인)\n",
    "direct_normality = stats.shapiro(daily_df['direct_session_cnt'])\n",
    "mens_normality = stats.shapiro(daily_df['mens_session_cnt'])\n",
    "print('Direct channel normality: ', direct_normality, 'Mens cate normality: ', mens_normality)"
   ]
  },
  {
   "cell_type": "markdown",
   "metadata": {},
   "source": [
    "- direct session count 와 Mens session count 모두 p-value 가 0.05보다 한참 작은 수치입니다.\n",
    "- 정규성을 만족한다고 보기 어렵습니다.\n",
    "- 때문에, 데이터의 정규성을 전제로 하는 Pearson correlation은 실행하지 않고, 대신 데이터의 수치를 순위로 치환하여 상관 관계를 확인하는 Spearman 과 Kendall-Tau correlation을 실행해보았습니다."
   ]
  },
  {
   "cell_type": "markdown",
   "metadata": {},
   "source": [
    "![correlation](https://imgur.com/FmdiYoE.png)\n",
    "**상관분석 진행 방법 (with stats)**\n",
    "\n",
    "[correlation_description](https://junsik-hwang.tistory.com/37?category=803034)"
   ]
  },
  {
   "cell_type": "code",
   "execution_count": 31,
   "metadata": {},
   "outputs": [
    {
     "name": "stdout",
     "output_type": "stream",
     "text": [
      "< spearman corr >\n"
     ]
    },
    {
     "data": {
      "text/html": [
       "<div>\n",
       "<style scoped>\n",
       "    .dataframe tbody tr th:only-of-type {\n",
       "        vertical-align: middle;\n",
       "    }\n",
       "\n",
       "    .dataframe tbody tr th {\n",
       "        vertical-align: top;\n",
       "    }\n",
       "\n",
       "    .dataframe thead th {\n",
       "        text-align: right;\n",
       "    }\n",
       "</style>\n",
       "<table border=\"1\" class=\"dataframe\">\n",
       "  <thead>\n",
       "    <tr style=\"text-align: right;\">\n",
       "      <th></th>\n",
       "      <th>direct_session_cnt</th>\n",
       "      <th>mens_session_cnt</th>\n",
       "    </tr>\n",
       "  </thead>\n",
       "  <tbody>\n",
       "    <tr>\n",
       "      <th>direct_session_cnt</th>\n",
       "      <td>1.00000</td>\n",
       "      <td>0.68673</td>\n",
       "    </tr>\n",
       "    <tr>\n",
       "      <th>mens_session_cnt</th>\n",
       "      <td>0.68673</td>\n",
       "      <td>1.00000</td>\n",
       "    </tr>\n",
       "  </tbody>\n",
       "</table>\n",
       "</div>"
      ],
      "text/plain": [
       "                    direct_session_cnt  mens_session_cnt\n",
       "direct_session_cnt             1.00000           0.68673\n",
       "mens_session_cnt               0.68673           1.00000"
      ]
     },
     "metadata": {},
     "output_type": "display_data"
    },
    {
     "name": "stdout",
     "output_type": "stream",
     "text": [
      "SpearmanrResult(correlation=0.6867254045599286, pvalue=6.502320613201462e-31)\n",
      "\n",
      "< kendall corr >\n"
     ]
    },
    {
     "data": {
      "text/html": [
       "<div>\n",
       "<style scoped>\n",
       "    .dataframe tbody tr th:only-of-type {\n",
       "        vertical-align: middle;\n",
       "    }\n",
       "\n",
       "    .dataframe tbody tr th {\n",
       "        vertical-align: top;\n",
       "    }\n",
       "\n",
       "    .dataframe thead th {\n",
       "        text-align: right;\n",
       "    }\n",
       "</style>\n",
       "<table border=\"1\" class=\"dataframe\">\n",
       "  <thead>\n",
       "    <tr style=\"text-align: right;\">\n",
       "      <th></th>\n",
       "      <th>direct_session_cnt</th>\n",
       "      <th>mens_session_cnt</th>\n",
       "    </tr>\n",
       "  </thead>\n",
       "  <tbody>\n",
       "    <tr>\n",
       "      <th>direct_session_cnt</th>\n",
       "      <td>1.00000</td>\n",
       "      <td>0.49486</td>\n",
       "    </tr>\n",
       "    <tr>\n",
       "      <th>mens_session_cnt</th>\n",
       "      <td>0.49486</td>\n",
       "      <td>1.00000</td>\n",
       "    </tr>\n",
       "  </tbody>\n",
       "</table>\n",
       "</div>"
      ],
      "text/plain": [
       "                    direct_session_cnt  mens_session_cnt\n",
       "direct_session_cnt             1.00000           0.49486\n",
       "mens_session_cnt               0.49486           1.00000"
      ]
     },
     "metadata": {},
     "output_type": "display_data"
    },
    {
     "name": "stdout",
     "output_type": "stream",
     "text": [
      "KendalltauResult(correlation=0.494857403998028, pvalue=1.373653543071442e-26)\n"
     ]
    }
   ],
   "source": [
    "print('< spearman corr >')\n",
    "display(daily_df[['direct_session_cnt','mens_session_cnt']].corr(method='spearman'))\n",
    "print(stats.spearmanr(a = daily_df['direct_session_cnt'], b = daily_df['mens_session_cnt']))\n",
    "print('')\n",
    "print('< kendall corr >')\n",
    "display(daily_df[['direct_session_cnt','mens_session_cnt']].corr(method='kendall'))\n",
    "print(stats.kendalltau(x = daily_df['direct_session_cnt'], y = daily_df['mens_session_cnt']))"
   ]
  },
  {
   "cell_type": "markdown",
   "metadata": {},
   "source": [
    "#### 3) 가설 검증 결과\n",
    "-> 스피어만 상관계수 약 0.69, 켄달 상관계수 약 0.49로, **뚜렷한 양적 상관 관계**를 보입니다! \n",
    "\n",
    "-> Next : \n",
    "- Direct Session의 트렌드에 맞추어, 매월 3~4주에 Men's 카테고리에 유입되는 사용자들을 타겟으로 한 프로모션 진행 테스트를 해볼 수 있습니다.\n",
    "- 매월 3~4주에 위의 내용과 같은 프로모션을 하였을 때와, 그 외 기간에 프로모션을 하였을 때의 구매전환율의 차이를 확인해볼 수 있습니다. (A/B Test)"
   ]
  },
  {
   "cell_type": "code",
   "execution_count": null,
   "metadata": {},
   "outputs": [],
   "source": []
  },
  {
   "cell_type": "markdown",
   "metadata": {},
   "source": [
    "### 가설3. 남성 outerwear의 판매는 계절의 영향을 받는다."
   ]
  },
  {
   "cell_type": "markdown",
   "metadata": {},
   "source": [
    "#### 1) 가설 생성의 배경\n",
    "![aparrel_catedepth3](https://imgur.com/R8P32fE.png)\n",
    "- week2의 Aparrel 내의 제품 카테고리별 월별 판매 수 Trend를 확인하여 가설3.을 내용을 설정하였습니다."
   ]
  },
  {
   "cell_type": "markdown",
   "metadata": {},
   "source": [
    "#### 2) 가설 검증 Plan\n",
    "- 사용 데이터 : 2017년도 1월 ~ 7월 Men's-Outerwear 카테고리와 Direct 채널의 데이터\n",
    "- 계절별 판매 세션 수 시각화\n",
    "- 계절별 판매 세션 수 ANOVA\n",
    "    - H0: 계절에 따른 판매 세션 수의 평균 차이가 유의미하지 않다.\n",
    "    - H1: 계절에 따른 판매 세션 수의 평균 차이가 유의미하다."
   ]
  },
  {
   "cell_type": "code",
   "execution_count": 36,
   "metadata": {},
   "outputs": [
    {
     "name": "stdout",
     "output_type": "stream",
     "text": [
      "10.598130226135254\n"
     ]
    }
   ],
   "source": [
    "# Query\n",
    "s_time = time.time()\n",
    "query = f\"\"\"\n",
    "with basic_set as (\n",
    "select *, \n",
    "case \n",
    "when extract(month from parse_date('%Y%m%d', date)) in (1,2) then 'winter'\n",
    "when extract(month from parse_date('%Y%m%d', date)) in (3,4,5) then 'spring'\n",
    "when extract(month from parse_date('%Y%m%d', date)) in (6,7) then 'summer'\n",
    "else 'not_set'\n",
    "end as Season\n",
    "from `ga_sample.ga_sample_2017`\n",
    "where 1=1\n",
    "and v2ProductCategory like \"%%Men's-Outerwear%%\"\n",
    "and date between \"{s_date}\" and \"{e_date}\"\n",
    ")\n",
    "\n",
    "select Season, parse_date('%Y%m%d', date) as date, count(distinct SessionId) as session_cnt\n",
    "from basic_set\n",
    "where 1=1\n",
    "and isImpression = 'e-commerce'\n",
    "and date between \"{s_date}\" and \"{e_date}\"\n",
    "group by Season, parse_date('%Y%m%d', date)\n",
    "\"\"\"\n",
    "\n",
    "season_df = client.query(query).to_dataframe()\n",
    "print(time.time()-s_time)"
   ]
  },
  {
   "cell_type": "code",
   "execution_count": 38,
   "metadata": {},
   "outputs": [],
   "source": [
    "from statsmodels.formula.api import ols\n",
    "from statsmodels.stats.anova import anova_lm"
   ]
  },
  {
   "cell_type": "code",
   "execution_count": 41,
   "metadata": {},
   "outputs": [],
   "source": [
    "group1 = season_df.loc[season_df['Season'] == 'winter','session_cnt']\n",
    "group2 = season_df.loc[season_df['Season'] == 'spring','session_cnt']\n",
    "group3 = season_df.loc[season_df['Season'] == 'summer','session_cnt']"
   ]
  },
  {
   "cell_type": "code",
   "execution_count": 42,
   "metadata": {},
   "outputs": [
    {
     "data": {
      "image/png": "[encoded data removed]",
      "text/plain": [
       "<Figure size 432x288 with 1 Axes>"
      ]
     },
     "metadata": {},
     "output_type": "display_data"
    }
   ],
   "source": [
    "plot_data = [group1, group2, group3]\n",
    "ax = plt.boxplot(plot_data)\n",
    "plt.show()"
   ]
  },
  {
   "cell_type": "markdown",
   "metadata": {},
   "source": [
    "- 1(Winter): Abnormality를 제외하더라도 정규 분포 형상을 보이지 않고, Right Skewness를 보이는 것 같습니다. \n",
    "- 2(Spring): 90% percentile을 봐도 여기는 1과 다르게 Left Skewness가 의심됩니다. \n",
    "- 3(Summer): 정규분포 형태로 추정됩니다. <br/>\n",
    "    -> 현재 1번 Group과 2번 Group 간에는 등분산성을 침해하는 요소가 있는 것으로 의심되어 ANOVA모델은 적합하지 않은 것으로 보입니다.\n"
   ]
  },
  {
   "cell_type": "code",
   "execution_count": 14,
   "metadata": {},
   "outputs": [],
   "source": [
    "# season_anova = season_df[['Season','session_cnt']]\n",
    "# season_anova.sample(n=3)"
   ]
  },
  {
   "cell_type": "markdown",
   "metadata": {},
   "source": [
    "#### 계절과 판매 세션 수 간의 분산분석을 실행은 등분산성 훼손으로 인해 불가능합니다. \n",
    "- 다음 Part4에서 해당 가설의 확인을 재진행할 예정입니다.\n",
    "\n",
    "#### + 사실 \"계절과 판매 세션 수의 상관관계\"는 재미없는 가설로 보일 수 있습니다.\n",
    "- 당연히 겨울이 지나고 아우터 매출이 감소하지 않겠어? 라는 생각을 할 수 있다는 것입니다..!\n",
    "- 다음부터는 가설 설정 시에 \"나의 아이디어를 다른 사람들도 흥미롭게 볼까\"라는 점을 유념할 필요가 있습니다."
   ]
  },
  {
   "cell_type": "code",
   "execution_count": 15,
   "metadata": {},
   "outputs": [],
   "source": [
    "#### 적용 불가 ####\n",
    "# model = ols('session_cnt ~ C(Season)', season_anova).fit()\n",
    "# anova_lm(model)"
   ]
  },
  {
   "cell_type": "code",
   "execution_count": 50,
   "metadata": {},
   "outputs": [],
   "source": [
    "client.close()"
   ]
  },
  {
   "cell_type": "code",
   "execution_count": null,
   "metadata": {},
   "outputs": [],
   "source": []
  }
 ],
 "metadata": {
  "hide_input": false,
  "kernelspec": {
   "display_name": "Python 3",
   "language": "python",
   "name": "python3"
  },
  "language_info": {
   "codemirror_mode": {
    "name": "ipython",
    "version": 3
   },
   "file_extension": ".py",
   "mimetype": "text/x-python",
   "name": "python",
   "nbconvert_exporter": "python",
   "pygments_lexer": "ipython3",
   "version": "3.8.5"
  }
 },
 "nbformat": 4,
 "nbformat_minor": 4
}
